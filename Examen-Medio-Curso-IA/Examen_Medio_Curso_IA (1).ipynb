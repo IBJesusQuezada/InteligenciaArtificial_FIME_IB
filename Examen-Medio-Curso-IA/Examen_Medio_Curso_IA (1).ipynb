{
  "nbformat": 4,
  "nbformat_minor": 0,
  "metadata": {
    "colab": {
      "name": "Examen-Medio-Curso-IA.ipynb",
      "provenance": [],
      "collapsed_sections": []
    },
    "kernelspec": {
      "name": "python3",
      "display_name": "Python 3"
    },
    "language_info": {
      "name": "python"
    }
  },
  "cells": [
    {
      "cell_type": "code",
      "metadata": {
        "colab": {
          "base_uri": "https://localhost:8080/"
        },
        "id": "CuoJpas94rCW",
        "outputId": "6956bab2-9787-4674-ef17-f1d11e2909ca"
      },
      "source": [
        "print(\"Eliga un número entero positivo: \")\n",
        "n = int(input())\n",
        "suma = 0\n",
        "for valor in range(1, n+1):\n",
        "  suma = suma + valor\n",
        "  if valor < n:\n",
        "    print(valor, end = \" + \")\n",
        "  else:\n",
        "      print(valor, end = \" = \")\n",
        "print(suma) "
      ],
      "execution_count": 17,
      "outputs": [
        {
          "output_type": "stream",
          "name": "stdout",
          "text": [
            "Eliga un número entero positivo: \n",
            "4\n",
            "1 + 2 + 3 + 4 = 10\n"
          ]
        }
      ]
    },
    {
      "cell_type": "code",
      "metadata": {
        "colab": {
          "base_uri": "https://localhost:8080/"
        },
        "id": "pVksm_bK8sNp",
        "outputId": "d996a91e-6c59-46a4-8770-04019fbbbdfe"
      },
      "source": [
        "print(\"Los números pares de la lista dada, son: \")\n",
        "for x in range(6, 31 + 1):\n",
        "  if x%2==0:\n",
        "    print(x, end = \" , \" )"
      ],
      "execution_count": 31,
      "outputs": [
        {
          "output_type": "stream",
          "name": "stdout",
          "text": [
            "Los números pares de la lista dada, son: \n",
            "6 , 8 , 10 , 12 , 14 , 16 , 18 , 20 , 22 , 24 , 26 , 28 , 30 , "
          ]
        }
      ]
    }
  ]
}