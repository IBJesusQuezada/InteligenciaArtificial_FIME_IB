{
  "nbformat": 4,
  "nbformat_minor": 0,
  "metadata": {
    "colab": {
      "name": "Examen-Medio-Curso-IA.ipynb",
      "provenance": [],
      "collapsed_sections": []
    },
    "kernelspec": {
      "name": "python3",
      "display_name": "Python 3"
    },
    "language_info": {
      "name": "python"
    }
  },
  "cells": [
    {
      "cell_type": "code",
      "metadata": {
        "colab": {
          "base_uri": "https://localhost:8080/"
        },
        "id": "CuoJpas94rCW",
        "outputId": "c6e62ca6-da5d-4f43-efdd-4197fe193b45"
      },
      "source": [
        "print(\"Eliga un número entero positivo: \")\n",
        "n = int(input())\n",
        "suma = 0\n",
        "for valor in range(1, n+1):\n",
        "  suma = suma + valor\n",
        "  if valor < n:\n",
        "    print(valor, end = \" + \")\n",
        "  else:\n",
        "      print(valor, end = \" = \")\n",
        "print(suma) "
      ],
      "execution_count": 8,
      "outputs": [
        {
          "output_type": "stream",
          "name": "stdout",
          "text": [
            "Eliga un número entero positivo: \n",
            "4\n",
            "1 + 2 + 3 + 4 = 10\n"
          ]
        }
      ]
    },
    {
      "cell_type": "code",
      "metadata": {
        "colab": {
          "base_uri": "https://localhost:8080/"
        },
        "id": "pVksm_bK8sNp",
        "outputId": "f510a505-4ac4-45e4-d2d9-eaf085164c9b"
      },
      "source": [
        "for x in range(6, 31 + 1):\n",
        "  if x%2==0:\n",
        "    print(x)"
      ],
      "execution_count": 11,
      "outputs": [
        {
          "output_type": "stream",
          "name": "stdout",
          "text": [
            "6\n",
            "8\n",
            "10\n",
            "12\n",
            "14\n",
            "16\n",
            "18\n",
            "20\n",
            "22\n",
            "24\n",
            "26\n",
            "28\n",
            "30\n"
          ]
        }
      ]
    },
    {
      "cell_type": "code",
      "metadata": {
        "id": "7Uhdisv39ORH"
      },
      "source": [
        ""
      ],
      "execution_count": null,
      "outputs": []
    }
  ]
}