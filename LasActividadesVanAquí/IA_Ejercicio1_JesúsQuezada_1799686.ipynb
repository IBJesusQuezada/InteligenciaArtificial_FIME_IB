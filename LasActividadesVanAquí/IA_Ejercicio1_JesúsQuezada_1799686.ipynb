{
  "nbformat": 4,
  "nbformat_minor": 0,
  "metadata": {
    "colab": {
      "name": "IA_Ejercicio1_JesúsQuezada_1799686.ipynb",
      "provenance": [],
      "collapsed_sections": []
    },
    "kernelspec": {
      "name": "python3",
      "display_name": "Python 3"
    },
    "language_info": {
      "name": "python"
    }
  },
  "cells": [
    {
      "cell_type": "code",
      "metadata": {
        "colab": {
          "base_uri": "https://localhost:8080/"
        },
        "id": "MI4D-lYIv_g_",
        "outputId": "3e08e265-1ad1-4f86-c395-60c2234aeca5"
      },
      "source": [
        "#Actividad 2 Ejercicios de introducción a Python. Jesús Quezada Oviedo 1799686. Martes N4\n",
        "\n",
        "#Ejercicio 1\n",
        "print(\"Nombre\") #Aquí es cuando el programa le pedirá el nombre al usuario\n",
        "nombre = input() #Aquí se guardará lo que el usuario escriba, en la variable nombre\n",
        "print(\"Edad\") #Aquí se pide al usuario su edad\n",
        "edad = input() #Se guarda en la variable lo que el usuario haya puesto\n",
        "print(\"Frase que te guste y su autor\") #Se pregunta por la frase y su autor\n",
        "frase_autor = input() #Se guarda en la variable lo que se escribió anteriormente\n",
        "mensaje_compuesto = nombre + \", \" + edad + \", \" + frase_autor #Se crea la concatenación de variables\n",
        "print(\"El nombre del usuario, su edad y su frase favorita con su autor, es el siguiente: \" + mensaje_compuesto) #Se imprime toda la concatenación"
      ],
      "execution_count": 2,
      "outputs": [
        {
          "output_type": "stream",
          "name": "stdout",
          "text": [
            "Nombre\n",
            "Jesús\n",
            "Edad\n",
            "21 años\n",
            "Frase que te guste y su autor\n",
            "Hola mundo, Introduciendo a la programación\n",
            "El nombre del usuario, su edad y su frase favorita con su autor, es el siguiente: Jesús, 21 años, Hola mundo, Introduciendo a la programación\n"
          ]
        }
      ]
    },
    {
      "cell_type": "code",
      "metadata": {
        "colab": {
          "base_uri": "https://localhost:8080/"
        },
        "id": "Kgs2MQHf56U6",
        "outputId": "11b43dd5-956a-48bb-bbec-5b4a584b277f"
      },
      "source": [
        "#Ejercicio 2 \n",
        "\n",
        "# En esta primera parte el programa le pedirá al usuario los pares de numeros y los guardará en una variable a cada uno\n",
        "n1= int (input(\"Ingrese el primer número entero: \"))\n",
        "n2= int (input(\"Ingrese el segundo número entero: \"))\n",
        "n3= float (input(\"Ingrese el primer número flotante: \"))\n",
        "n4= float (input(\"Ingrese el segundo número flotante: \"))\n",
        "\n",
        "# Aquí se realizarán las operaciones de cada par de números\n",
        "suma = n1+n2\n",
        "resta = n1-n2\n",
        "mult = n1*n2\n",
        "division= n1/n2\n",
        "suma_f = n3+n4\n",
        "resta_f = n3-n4\n",
        "mult_f = n3*n4\n",
        "division_f = n3/n4\n",
        "\n",
        "# Por último se imprimirán los resultados de cada operación\n",
        "print(\"La suma de numeros enteros es: \",suma)\n",
        "print(\"La resta de numeros enteros es: \",resta)\n",
        "print(\"La multiplicación de numeros enteros es: \",mult)\n",
        "print(\"La división de numeros enteros es: \",division)\n",
        "print(\"La suma de numeros flotantes es: \",suma_f)\n",
        "print(\"La resta de numeros flotantes es: \",resta_f)\n",
        "print(\"La multiplicación de numeros flotantes es: \",mult_f)\n",
        "print(\"La división de numeros flotantes es: \",division_f)"
      ],
      "execution_count": 3,
      "outputs": [
        {
          "output_type": "stream",
          "name": "stdout",
          "text": [
            "Ingrese el primer número entero: 2\n",
            "Ingrese el segundo número entero: 3\n",
            "Ingrese el primer número flotante: 2.7\n",
            "Ingrese el segundo número flotante: 5.6\n",
            "La suma de numeros enteros es:  5\n",
            "La resta de numeros enteros es:  -1\n",
            "La multiplicación de numeros enteros es:  6\n",
            "La división de numeros enteros es:  0.6666666666666666\n",
            "La suma de numeros flotantes es:  8.3\n",
            "La resta de numeros flotantes es:  -2.8999999999999995\n",
            "La multiplicación de numeros flotantes es:  15.12\n",
            "La división de numeros flotantes es:  0.4821428571428572\n"
          ]
        }
      ]
    },
    {
      "cell_type": "code",
      "metadata": {
        "colab": {
          "base_uri": "https://localhost:8080/"
        },
        "id": "lV1yfETj6DO8",
        "outputId": "bb05a982-927c-4baf-b2e2-211cd9423583"
      },
      "source": [
        "#Ejercicio 3 \n",
        "\n",
        "# Aquí se le pide al usuario que ingrese números y los guarda en una variable\n",
        "a= float (input(\"Ingrese un número \"))\n",
        "b= float (input(\"Ingrese otro número \"))\n",
        "c= float (input(\"Ingrese un último número \"))\n",
        "\n",
        "#Aquí se utilizan los operadores lógicos y se evalúan con los números antes ingresados\n",
        "resultado_and = ((a>b) and (b>c))\n",
        "resultado_or = ((a>b) or (b>c))\n",
        "resultado_not = not ((a>b) or (b<c))\n",
        "\n",
        "# Por último se imprime el resultado de cada operador lógico como True o False\n",
        "print(\"El resultado del operador and es: \",resultado_and)\n",
        "print(\"El resultado del operador or es: \",resultado_or)\n",
        "print(\"El resultado del operador not es: \",resultado_not)"
      ],
      "execution_count": 4,
      "outputs": [
        {
          "output_type": "stream",
          "name": "stdout",
          "text": [
            "Ingrese un número 4\n",
            "Ingrese otro número 8\n",
            "Ingrese un último número 3\n",
            "El resultado del operador and es:  False\n",
            "El resultado del operador or es:  True\n",
            "El resultado del operador not es:  True\n"
          ]
        }
      ]
    }
  ]
}