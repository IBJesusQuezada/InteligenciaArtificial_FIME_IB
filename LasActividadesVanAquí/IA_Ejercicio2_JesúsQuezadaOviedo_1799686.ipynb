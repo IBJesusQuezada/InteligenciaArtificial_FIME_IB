{
  "nbformat": 4,
  "nbformat_minor": 0,
  "metadata": {
    "colab": {
      "name": "IA_Ejercicio2_JesúsQuezadaOviedo_1799686.ipynb",
      "provenance": [],
      "collapsed_sections": []
    },
    "kernelspec": {
      "name": "python3",
      "display_name": "Python 3"
    },
    "language_info": {
      "name": "python"
    }
  },
  "cells": [
    {
      "cell_type": "code",
      "metadata": {
        "colab": {
          "base_uri": "https://localhost:8080/"
        },
        "id": "58GAY_SUWBc7",
        "outputId": "733a4be6-7013-48c6-fc37-7ce659177394"
      },
      "source": [
        "#Actividad 3.- Ejercicios Introducción Python, 2da parte\n",
        "#Jesús Quezada Oviedo 1799686.  IA Martes N4T\n",
        "#En esta primera parte el programa le pregunta al usuario por sus comidas favoritas, las cuales se almacenan en una variable\n",
        "print(\"Menciona 1 comida que te guste: \")\n",
        "comida1 = input()\n",
        "print(\"Menciona otra comida que te guste: \")\n",
        "comida2 = input()\n",
        "print(\"Menciona otra comida que te guste: \")\n",
        "comida3 = input()\n",
        "print(\"Menciona otra comida que te guste: \")\n",
        "comida4 = input()\n",
        "print(\"Menciona otra comida que te guste: \")\n",
        "comida5 = input()\n",
        "print(\"Menciona otra comida que te guste: \")\n",
        "comida6 = input()\n",
        "print(\"Menciona otra comida que te guste: \")\n",
        "comida7 = input()\n",
        "\n",
        "#Aquí se crea una lista con las variables en las que se guardaron las comidas que el usuario ingresó\n",
        "comidas_favoritas = [comida1, comida2, comida3, comida4, comida5, comida6, comida7]\n",
        "\n",
        "#Aquí se utiliza el ciclo for para imprmir sus comidas \n",
        "for x in comidas_favoritas:\n",
        "  print(x)"
      ],
      "execution_count": 108,
      "outputs": [
        {
          "output_type": "stream",
          "name": "stdout",
          "text": [
            "Menciona 1 comida que te guste: \n",
            "Enchiladas\n",
            "Menciona otra comida que te guste: \n",
            "Carne Asada\n",
            "Menciona otra comida que te guste: \n",
            "Tacos\n",
            "Menciona otra comida que te guste: \n",
            "Chilaquiles\n",
            "Menciona otra comida que te guste: \n",
            "Tortas\n",
            "Menciona otra comida que te guste: \n",
            "Pizza\n",
            "Menciona otra comida que te guste: \n",
            "Hamburguesa\n",
            "Enchiladas\n",
            "Carne Asada\n",
            "Tacos\n",
            "Chilaquiles\n",
            "Tortas\n",
            "Pizza\n",
            "Hamburguesa\n"
          ]
        }
      ]
    },
    {
      "cell_type": "code",
      "metadata": {
        "colab": {
          "base_uri": "https://localhost:8080/"
        },
        "id": "dIwtVpH7Wrhy",
        "outputId": "85859215-0cd4-4b0e-9798-dd06548b73ab"
      },
      "source": [
        "#En esta primera parte el programa le pregunta al usuario por sus comidas favoritas, las cuales se almacenan en una variable\n",
        "print(\"Menciona 1 comida que te guste: \")\n",
        "comida1 = input()\n",
        "print(\"Menciona otra comida que te guste: \")\n",
        "comida2 = input()\n",
        "print(\"Menciona otra comida que te guste: \")\n",
        "comida3 = input()\n",
        "print(\"Menciona otra comida que te guste: \")\n",
        "comida4 = input()\n",
        "print(\"Menciona otra comida que te guste: \")\n",
        "comida5 = input()\n",
        "print(\"Menciona otra comida que te guste: \")\n",
        "comida6 = input()\n",
        "print(\"Menciona otra comida que te guste: \")\n",
        "comida7 = input()\n",
        "\n",
        "#Aquí se crea una lista con las variables en las que se guardaron las comidas que el usuario ingresó\n",
        "comidas_favoritas = [comida1, comida2, comida3, comida4, comida5, comida6, comida7]\n",
        "\n",
        "#Aquí se utiliza el ciclo for para imprmir la frase y sus comidas \n",
        "for x in comidas_favoritas:\n",
        "  print(\"Una de mis comidas favoritas es: \", [x] )"
      ],
      "execution_count": 2,
      "outputs": [
        {
          "output_type": "stream",
          "name": "stdout",
          "text": [
            "Menciona 1 comida que te guste: \n",
            "Enchiladas\n",
            "Menciona otra comida que te guste: \n",
            "Sopes\n",
            "Menciona otra comida que te guste: \n",
            "Carne asada\n",
            "Menciona otra comida que te guste: \n",
            "Chilaquiles\n",
            "Menciona otra comida que te guste: \n",
            "Hot dogs\n",
            "Menciona otra comida que te guste: \n",
            "Tacos\n",
            "Menciona otra comida que te guste: \n",
            "Pizza\n",
            "Una de mis comidas favoritas es:  ['Enchiladas']\n",
            "Una de mis comidas favoritas es:  ['Sopes']\n",
            "Una de mis comidas favoritas es:  ['Carne asada']\n",
            "Una de mis comidas favoritas es:  ['Chilaquiles']\n",
            "Una de mis comidas favoritas es:  ['Hot dogs']\n",
            "Una de mis comidas favoritas es:  ['Tacos']\n",
            "Una de mis comidas favoritas es:  ['Pizza']\n"
          ]
        }
      ]
    },
    {
      "cell_type": "code",
      "metadata": {
        "colab": {
          "base_uri": "https://localhost:8080/"
        },
        "id": "y5gd3V0iXLU0",
        "outputId": "f0167ead-bd9e-4e3e-e671-8c8df7928f74"
      },
      "source": [
        "\n",
        "#Aquí se crea una lista de las opciones que puedes elegir\n",
        "thislist = [\"R\", \"P\", \"T\"]\n",
        "sep = \"-\" * 15\n",
        "i = 1\n",
        "#Aquí se le pregunta al usuario la cantidad de rondas que desea jugar\n",
        "rondas = int(input(\"¿Cuantas rondas desean jugar?: \"))\n",
        "\n",
        "\n",
        "while i <= rondas:\n",
        "  jugador1 = input(\"Jugador 1, elige Roca, Papel o Tijera (Utilizando R, P o T): \")\n",
        "  jugador2 = input(\"Jugador 2, elige Roca, Papel o Tijera (Utilizando R, P o T): \")\n",
        "  if jugador1 not in thislist:\n",
        "    print(\"\\nMovimiento no válido\")\n",
        "\n",
        "\n",
        "  print(\"El jugador 1 ha elegido: \", jugador1)\n",
        "  print(\"El jugador 2 ha elegido: \", jugador2)\n",
        "\n",
        "#Aquí se comienzan a comparar las opciones que eligieron los usuarios, dependiendo de la que hayan elegido.\n",
        "  if jugador1 == jugador2:\n",
        "    print(f\"\\nEmpate, ambos eligieron: \", jugador1)\n",
        "  elif jugador1 == \"R\" and jugador2 == \"P\":\n",
        "      print(f\"\\nHa ganado el jugador 2, Papel vence a la Roca!\")\n",
        "  elif jugador1 == \"R\" and jugador2 == \"T\":\n",
        "      print(f\"\\nHa ganado el jugador 1, Roca vence a la Tijera!\")\n",
        "  elif jugador1 == \"P\" and jugador2 == \"R\":\n",
        "      print(f\"\\nHa ganado el jugador 1, Papel vence a la Roca!\")\n",
        "  elif jugador1 == \"P\" and jugador2 == \"T\":\n",
        "      print(f\"\\nHa ganado el jugador 2, Tijera vence al Papel!\")\n",
        "  elif jugador1 == \"T\" and jugador2 == \"R\":\n",
        "      print(f\"\\nHa ganado el jugador 2, Roca vence a la Tijera!\")\n",
        "  elif jugador1 == \"T\" and jugador2 == \"P\":\n",
        "      print(f\"\\nHa ganado el jugador 1, Tijera vence al Papel!\")    \n",
        "  print(f\"{sep} Fin del juego {sep}\")\n",
        "  i += 1\n",
        "\n",
        "\n",
        "\n"
      ],
      "execution_count": 107,
      "outputs": [
        {
          "output_type": "stream",
          "name": "stdout",
          "text": [
            "¿Cuantas rondas desean jugar?: 2\n",
            "Jugador 1, elige Roca, Papel o Tijera (Utilizando R, P o T): R\n",
            "Jugador 2, elige Roca, Papel o Tijera (Utilizando R, P o T): P\n",
            "El jugador 1 ha elegido:  R\n",
            "El jugador 2 ha elegido:  P\n",
            "\n",
            "Ha ganado el jugador 2, Papel vence a la Roca!\n",
            "--------------- Fin del juego ---------------\n",
            "Jugador 1, elige Roca, Papel o Tijera (Utilizando R, P o T): P\n",
            "Jugador 2, elige Roca, Papel o Tijera (Utilizando R, P o T): P\n",
            "El jugador 1 ha elegido:  P\n",
            "El jugador 2 ha elegido:  P\n",
            "\n",
            "Empate, ambos eligieron:  P\n",
            "--------------- Fin del juego ---------------\n"
          ]
        }
      ]
    },
    {
      "cell_type": "code",
      "metadata": {
        "colab": {
          "base_uri": "https://localhost:8080/"
        },
        "id": "Fwi5o4gThnyH",
        "outputId": "0dd42622-d231-4b60-e018-d67809c52739"
      },
      "source": [
        "n = 6\n",
        "\n",
        "if n > 0: \n",
        "#En esta primera parte se hace un ciclo for en el cual se da el rango del primer patrón que será de manera descendente, del 6 hasta el 1  \n",
        "  for i in range(n, 0, -1):\n",
        "    print(\"\")\n",
        "\n",
        "    for j in range(1, i+1):\n",
        "\n",
        "      print(j, end=\" \")\n",
        "\n",
        "#Aquí igual se hace un ciclo for en el cual se da el rango del segundo patrón que será de manera ascendente, del 1 hasta el 6   \n",
        "  for i in range(1, n+1):\n",
        "    print(\"\")\n",
        "\n",
        "    for j in range(1, i+1):\n",
        "      print(j, end=\" \")\n",
        "  \n",
        " \n",
        "\n",
        " \n",
        "\n",
        "\n",
        "\n"
      ],
      "execution_count": 106,
      "outputs": [
        {
          "output_type": "stream",
          "name": "stdout",
          "text": [
            "\n",
            "1 2 3 4 5 6 \n",
            "1 2 3 4 5 \n",
            "1 2 3 4 \n",
            "1 2 3 \n",
            "1 2 \n",
            "1 \n",
            "1 \n",
            "1 2 \n",
            "1 2 3 \n",
            "1 2 3 4 \n",
            "1 2 3 4 5 \n",
            "1 2 3 4 5 6 "
          ]
        }
      ]
    }
  ]
}